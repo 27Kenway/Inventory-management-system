{
 "cells": [
  {
   "cell_type": "markdown",
   "id": "bc99cae1",
   "metadata": {},
   "source": [
    "# Inventory Management System\n",
    "\n",
    "\n",
    "### Menu for products . Refer for product id"
   ]
  },
  {
   "cell_type": "code",
   "execution_count": 4,
   "id": "93ca25d8",
   "metadata": {},
   "outputs": [
    {
     "name": "stdout",
     "output_type": "stream",
     "text": [
      "\u001b[1m\t   \u001b[4mMy Globle Mart\n",
      "\n",
      "\u001b[0m\n",
      "\u001b[1m**************************************\u001b[0m\n",
      "\u001b[95m\n",
      "ID\u001b[0m\u001b[91m\t\tProduct\t\u001b[0m\u001b[92m\tPrice\u001b[0m\n",
      "\n",
      "\n",
      "1066221 --\tMilk\t\t₹25\n",
      "1066222 --\tEggs\t\t₹30\n",
      "1066223 --\tBread\t\t₹15\n",
      "1066224 --\tChocolate\t₹10\n",
      "1066225 --\tMaggi\t\t₹12\n",
      "1066226 --\tButter\t\t₹35\n",
      "1066227 --\tIce-Cream\t₹20\n",
      "1066228 --\tOil\t\t₹70\n",
      "1066229 --\tPen\t\t₹15\n",
      "1066230 --\tPencil\t\t₹5\n",
      "1066231 --\tBag\t\t₹300\n",
      "1066232 --\tShoes\t\t₹500\n",
      "1066233 --\tPerfume\t\t₹100\n",
      "1066234 --\tShirt\t\t₹200\n",
      "1066235 --\tJeans\t\t₹600\n",
      "1066236 --\tMobile\t\t₹12000\n",
      "1066237 --\tEar-Phone\t₹800\n",
      "1066238 --\tKeyboard\t₹1000\n",
      "1066239 --\tMouse\t\t₹600\n",
      "1066240 --\tSpeaker\t\t₹3000\n",
      "1066241 --\tLaptop\t\t₹60000\n",
      "1066242 --\tEar-Pods\t₹15000\n",
      "1066243 --\tRouter\t\t₹1500\n",
      "1066244 --\tTV\t\t₹25000\n",
      "1066245 --\tWatch\t\t₹5500\n",
      "1066246 --\tI-Pad\t\t₹40000\n",
      "1066247 --\tDrink\t\t₹35\n",
      "1066248 --\tCake\t\t₹500\n",
      "1066249 --\tBiscuit\t\t₹10\n",
      "1066250 --\tCoffee\t\t₹80\n",
      "\u001b[1m\n",
      "**************************************\n",
      "\u001b[0m\n"
     ]
    }
   ],
   "source": [
    "class color:\n",
    "   PURPLE = '\\033[95m'\n",
    "   CYAN = '\\033[96m'\n",
    "   DARKCYAN = '\\033[36m'\n",
    "   BLUE = '\\033[94m'\n",
    "   GREEN = '\\033[92m'\n",
    "   YELLOW = '\\033[93m'\n",
    "   RED = '\\033[91m'\n",
    "   BOLD = '\\033[1m'\n",
    "   UNDERLINE = '\\033[4m'\n",
    "   END = '\\033[0m'\n",
    "\n",
    "print(color.BOLD + '\\t   '+color.UNDERLINE+'My Globle Mart\\n\\n' + color.END)\n",
    "print(color.BOLD+\"**************************************\"+color.END)\n",
    "print(color.PURPLE+\"\\nID\"+color.END+color.RED+\"\\t\\tProduct\\t\"+color.END+color.GREEN+\"\\tPrice\"+color.END+\"\\n\\n\")\n",
    "print(\"1066221 --\\tMilk\\t\\t₹25\\n1066222 --\\tEggs\\t\\t₹30\\n1066223 --\\tBread\\t\\t₹15\\n1066224 --\\tChocolate\\t₹10\\n1066225 --\\tMaggi\\t\\t₹12\")\n",
    "print(\"1066226 --\\tButter\\t\\t₹35\\n1066227 --\\tIce-Cream\\t₹20\\n1066228 --\\tOil\\t\\t₹70\\n1066229 --\\tPen\\t\\t₹15\\n1066230 --\\tPencil\\t\\t₹5\")\n",
    "print(\"1066231 --\\tBag\\t\\t₹300\\n1066232 --\\tShoes\\t\\t₹500\\n1066233 --\\tPerfume\\t\\t₹100\\n1066234 --\\tShirt\\t\\t₹200\\n1066235 --\\tJeans\\t\\t₹600\")\n",
    "print(\"1066236 --\\tMobile\\t\\t₹12000\\n1066237 --\\tEar-Phone\\t₹800\\n1066238 --\\tKeyboard\\t₹1000\\n1066239 --\\tMouse\\t\\t₹600\\n1066240 --\\tSpeaker\\t\\t₹3000\")\n",
    "print(\"1066241 --\\tLaptop\\t\\t₹60000\\n1066242 --\\tEar-Pods\\t₹15000\\n1066243 --\\tRouter\\t\\t₹1500\\n1066244 --\\tTV\\t\\t₹25000\\n1066245 --\\tWatch\\t\\t₹5500\")\n",
    "print(\"1066246 --\\tI-Pad\\t\\t₹40000\\n1066247 --\\tDrink\\t\\t₹35\\n1066248 --\\tCake\\t\\t₹500\\n1066249 --\\tBiscuit\\t\\t₹10\\n1066250 --\\tCoffee\\t\\t₹80\")\n",
    "print(color.BOLD+\"\\n**************************************\\n\"+color.END)"
   ]
  },
  {
   "cell_type": "markdown",
   "id": "701c9f75",
   "metadata": {},
   "source": [
    "# Executable Code"
   ]
  },
  {
   "cell_type": "code",
   "execution_count": 7,
   "id": "1255343a",
   "metadata": {},
   "outputs": [
    {
     "name": "stdout",
     "output_type": "stream",
     "text": [
      "Enter the product id: 1066251\n",
      "Enter quantity of Soap to purchase: 1\n",
      "\n",
      "\u001b[1mSoap\t1 pieces\t₹50\tsep/01\tDettol\u001b[0m\n",
      "\n",
      "Do you want to continue(y/n): n\n",
      "Billing Amount: 50\n"
     ]
    }
   ],
   "source": [
    "import json\n",
    "import time\n",
    "fd=open(\"record.json\",'r')\n",
    "txt=fd.read()\n",
    "fd.close()\n",
    "record=json.loads(txt)\n",
    "\n",
    "sal=open(\"sales.json\",'r')\n",
    "x=sal.read()\n",
    "sal.close()\n",
    "z=json.loads(x)\n",
    "\n",
    "header=\"\\tID\\tProduct Name\\t\\tBrand\\t  \\tManufacturing date\\tQuantity\\tTotal price\\n\\n\\t************************************************************************************************\"\n",
    "rec=open(\"recipt.txt\",'w')\n",
    "rec.write(header)\n",
    "rec.close()\n",
    "choice='y'\n",
    "amount=0\n",
    "\n",
    "lst=list(record)\n",
    "k=lst[-1]\n",
    "k=int(k)\n",
    "while(choice=='y'):\n",
    "    id=int(input(\"Enter the product id: \"))\n",
    "    if(id<1066221 or id>k):\n",
    "       print(\"Wrong ID ! ... Please check the product id\")\n",
    "       continue\n",
    "    else:\n",
    "        id=str(id)\n",
    "        name_buy=record[id][\"name\"]\n",
    "        qty_buy=int(input(\"Enter quantity of \"+name_buy+\" to purchase: \"))\n",
    "        if(qty_buy>record[id][\"qty\"]):\n",
    "            if(record[id][\"qty\"]==0):\n",
    "                print(\"\\nProduct is \"+color.BOLD+\"Out Of Stock\"+color.END+\". Please continue the shopping\")\n",
    "                continue\n",
    "            else:\n",
    "                qty_buy=record[id][\"qty\"]\n",
    "                record[id][\"qty\"]=0\n",
    "                print(\"\\nYour order exceeds our stock. So, your purchase quantity will be \"+str(qty_buy))\n",
    "        else:\n",
    "            record[id][\"qty\"]=record[id][\"qty\"]-qty_buy\n",
    "        total_price=qty_buy*record[id][\"price\"]\n",
    "        rec=open(\"recipt.txt\",'a')\n",
    "        rc=\"\\n\\t\"+id+\"\\t \"+name_buy+\"\\t\\t\\t\"+record[id][\"brand\"]+\"\\t\\t\\t\"+record[id][\"MFD\"]+\"\\t\\t  \"+str(qty_buy)+\"\\t\\tRs.\"+str(total_price)+\"\\n\"\n",
    "        rec.write(rc)\n",
    "        lst=[id,name_buy,qty_buy,total_price]\n",
    "        y={time.ctime():lst}\n",
    "        z.update(y)\n",
    "        print(\"\\n\"+color.BOLD +name_buy+\"\\t\"+str(qty_buy)+\" pieces\\t\"+\"₹\"+str(total_price)+\"\\t\"+record[id][\"MFD\"]+\"\\t\"+record[id][\"brand\"]+color.END)\n",
    "        \n",
    "        amount+=total_price\n",
    "        choice=input(\"\\nDo you want to continue(y/n): \")\n",
    "        \n",
    "js=json.dumps(record)\n",
    "fd=open(\"record.json\",'w')\n",
    "fd.write(js)\n",
    "fd.close()\n",
    "\n",
    "vs=json.dumps(z)\n",
    "sal=open(\"sales.json\",'w')\n",
    "sal.write(vs)\n",
    "sal.close()\n",
    "\n",
    "clock=time.ctime()\n",
    "time=clock[11:19]\n",
    "date1=clock[:10]\n",
    "date2=clock[20:]\n",
    "date=date1+\" \"+date2\n",
    "print(\"Billing Amount: \"+str(amount))\n",
    "rc=\"\\n\\t************************************************************************************************\\n\\n\\t\\t\\t\\t\\t\\t\\t\\t\\t  Total Amount:\\t  Rs. \"+str(amount)+\"\\n\\t\"+time+\"\\n\\t\"+date+\"\\n\"\n",
    "rec.write(rc)\n",
    "rec.close()"
   ]
  },
  {
   "cell_type": "code",
   "execution_count": null,
   "id": "490a9658",
   "metadata": {},
   "outputs": [],
   "source": []
  },
  {
   "cell_type": "code",
   "execution_count": null,
   "id": "9ec894ee",
   "metadata": {},
   "outputs": [],
   "source": []
  },
  {
   "cell_type": "code",
   "execution_count": null,
   "id": "c5da69c0",
   "metadata": {},
   "outputs": [],
   "source": [
    "      "
   ]
  }
 ],
 "metadata": {
  "kernelspec": {
   "display_name": "Python 3",
   "language": "python",
   "name": "python3"
  },
  "language_info": {
   "codemirror_mode": {
    "name": "ipython",
    "version": 3
   },
   "file_extension": ".py",
   "mimetype": "text/x-python",
   "name": "python",
   "nbconvert_exporter": "python",
   "pygments_lexer": "ipython3",
   "version": "3.8.8"
  }
 },
 "nbformat": 4,
 "nbformat_minor": 5
}
